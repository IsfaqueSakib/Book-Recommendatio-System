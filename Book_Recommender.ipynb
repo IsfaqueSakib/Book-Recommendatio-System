{
  "nbformat": 4,
  "nbformat_minor": 0,
  "metadata": {
    "colab": {
      "name": "Book_Recommener.ipynb",
      "provenance": [],
      "collapsed_sections": []
    },
    "kernelspec": {
      "name": "python3",
      "display_name": "Python 3"
    },
    "language_info": {
      "name": "python"
    }
  },
  "cells": [
    {
      "cell_type": "code",
      "metadata": {
        "id": "yXFaRvAy0Kbf"
      },
      "source": [
        "import numpy as np\n",
        "import pandas as pd\n",
        "import matplotlib.pyplot as plt\n",
        "import os\n",
        "import warnings\n",
        "\n",
        "from keras.layers import Input, Embedding, Flatten, Dot, Dense\n",
        "from keras.models import Model\n",
        "\n",
        "warnings.filterwarnings('ignore')\n",
        "%matplotlib inline"
      ],
      "execution_count": 128,
      "outputs": []
    },
    {
      "cell_type": "code",
      "metadata": {
        "id": "vcr0EPmd0z4N"
      },
      "source": [
        "#load dataset"
      ],
      "execution_count": 129,
      "outputs": []
    },
    {
      "cell_type": "code",
      "metadata": {
        "id": "acJkt47L00Dj"
      },
      "source": [
        "dataset = pd.read_csv('inputs/ratings.csv')"
      ],
      "execution_count": 130,
      "outputs": []
    },
    {
      "cell_type": "code",
      "metadata": {
        "id": "_GwykHBe00GP",
        "colab": {
          "base_uri": "https://localhost:8080/",
          "height": 203
        },
        "outputId": "490e5854-4e89-45c3-bc79-a1d420939116"
      },
      "source": [
        "dataset.head()"
      ],
      "execution_count": 131,
      "outputs": [
        {
          "output_type": "execute_result",
          "data": {
            "text/html": [
              "<div>\n",
              "<style scoped>\n",
              "    .dataframe tbody tr th:only-of-type {\n",
              "        vertical-align: middle;\n",
              "    }\n",
              "\n",
              "    .dataframe tbody tr th {\n",
              "        vertical-align: top;\n",
              "    }\n",
              "\n",
              "    .dataframe thead th {\n",
              "        text-align: right;\n",
              "    }\n",
              "</style>\n",
              "<table border=\"1\" class=\"dataframe\">\n",
              "  <thead>\n",
              "    <tr style=\"text-align: right;\">\n",
              "      <th></th>\n",
              "      <th>book_id</th>\n",
              "      <th>user_id</th>\n",
              "      <th>rating</th>\n",
              "    </tr>\n",
              "  </thead>\n",
              "  <tbody>\n",
              "    <tr>\n",
              "      <th>0</th>\n",
              "      <td>1</td>\n",
              "      <td>314</td>\n",
              "      <td>5</td>\n",
              "    </tr>\n",
              "    <tr>\n",
              "      <th>1</th>\n",
              "      <td>1</td>\n",
              "      <td>439</td>\n",
              "      <td>3</td>\n",
              "    </tr>\n",
              "    <tr>\n",
              "      <th>2</th>\n",
              "      <td>1</td>\n",
              "      <td>588</td>\n",
              "      <td>5</td>\n",
              "    </tr>\n",
              "    <tr>\n",
              "      <th>3</th>\n",
              "      <td>1</td>\n",
              "      <td>1169</td>\n",
              "      <td>4</td>\n",
              "    </tr>\n",
              "    <tr>\n",
              "      <th>4</th>\n",
              "      <td>1</td>\n",
              "      <td>1185</td>\n",
              "      <td>4</td>\n",
              "    </tr>\n",
              "  </tbody>\n",
              "</table>\n",
              "</div>"
            ],
            "text/plain": [
              "   book_id  user_id  rating\n",
              "0        1      314       5\n",
              "1        1      439       3\n",
              "2        1      588       5\n",
              "3        1     1169       4\n",
              "4        1     1185       4"
            ]
          },
          "metadata": {
            "tags": []
          },
          "execution_count": 131
        }
      ]
    },
    {
      "cell_type": "code",
      "metadata": {
        "id": "MX6R_UPk00Iz",
        "colab": {
          "base_uri": "https://localhost:8080/"
        },
        "outputId": "d16632a5-872a-4b03-92b7-67def6eacd8e"
      },
      "source": [
        "dataset.shape"
      ],
      "execution_count": 132,
      "outputs": [
        {
          "output_type": "execute_result",
          "data": {
            "text/plain": [
              "(981756, 3)"
            ]
          },
          "metadata": {
            "tags": []
          },
          "execution_count": 132
        }
      ]
    },
    {
      "cell_type": "code",
      "metadata": {
        "id": "Qc9xRdgC00MW"
      },
      "source": [
        "from sklearn.model_selection import train_test_split\n",
        "train, test = train_test_split(dataset, test_size=0.2, random_state=42)"
      ],
      "execution_count": 133,
      "outputs": []
    },
    {
      "cell_type": "code",
      "metadata": {
        "id": "CBEPn03k_Uk6",
        "colab": {
          "base_uri": "https://localhost:8080/",
          "height": 203
        },
        "outputId": "2ca47c53-b22b-4c9e-b443-7860546cbcdb"
      },
      "source": [
        "train.head()"
      ],
      "execution_count": 134,
      "outputs": [
        {
          "output_type": "execute_result",
          "data": {
            "text/html": [
              "<div>\n",
              "<style scoped>\n",
              "    .dataframe tbody tr th:only-of-type {\n",
              "        vertical-align: middle;\n",
              "    }\n",
              "\n",
              "    .dataframe tbody tr th {\n",
              "        vertical-align: top;\n",
              "    }\n",
              "\n",
              "    .dataframe thead th {\n",
              "        text-align: right;\n",
              "    }\n",
              "</style>\n",
              "<table border=\"1\" class=\"dataframe\">\n",
              "  <thead>\n",
              "    <tr style=\"text-align: right;\">\n",
              "      <th></th>\n",
              "      <th>book_id</th>\n",
              "      <th>user_id</th>\n",
              "      <th>rating</th>\n",
              "    </tr>\n",
              "  </thead>\n",
              "  <tbody>\n",
              "    <tr>\n",
              "      <th>341848</th>\n",
              "      <td>3423</td>\n",
              "      <td>4608</td>\n",
              "      <td>2</td>\n",
              "    </tr>\n",
              "    <tr>\n",
              "      <th>964349</th>\n",
              "      <td>9811</td>\n",
              "      <td>36373</td>\n",
              "      <td>5</td>\n",
              "    </tr>\n",
              "    <tr>\n",
              "      <th>645459</th>\n",
              "      <td>6485</td>\n",
              "      <td>2957</td>\n",
              "      <td>4</td>\n",
              "    </tr>\n",
              "    <tr>\n",
              "      <th>74960</th>\n",
              "      <td>750</td>\n",
              "      <td>42400</td>\n",
              "      <td>3</td>\n",
              "    </tr>\n",
              "    <tr>\n",
              "      <th>358670</th>\n",
              "      <td>3591</td>\n",
              "      <td>36886</td>\n",
              "      <td>5</td>\n",
              "    </tr>\n",
              "  </tbody>\n",
              "</table>\n",
              "</div>"
            ],
            "text/plain": [
              "        book_id  user_id  rating\n",
              "341848     3423     4608       2\n",
              "964349     9811    36373       5\n",
              "645459     6485     2957       4\n",
              "74960       750    42400       3\n",
              "358670     3591    36886       5"
            ]
          },
          "metadata": {
            "tags": []
          },
          "execution_count": 134
        }
      ]
    },
    {
      "cell_type": "code",
      "metadata": {
        "id": "1QgKnvTE_Un1",
        "colab": {
          "base_uri": "https://localhost:8080/",
          "height": 203
        },
        "outputId": "04951ba8-ac02-406e-a29a-5603c5738b45"
      },
      "source": [
        "test.head()"
      ],
      "execution_count": 135,
      "outputs": [
        {
          "output_type": "execute_result",
          "data": {
            "text/html": [
              "<div>\n",
              "<style scoped>\n",
              "    .dataframe tbody tr th:only-of-type {\n",
              "        vertical-align: middle;\n",
              "    }\n",
              "\n",
              "    .dataframe tbody tr th {\n",
              "        vertical-align: top;\n",
              "    }\n",
              "\n",
              "    .dataframe thead th {\n",
              "        text-align: right;\n",
              "    }\n",
              "</style>\n",
              "<table border=\"1\" class=\"dataframe\">\n",
              "  <thead>\n",
              "    <tr style=\"text-align: right;\">\n",
              "      <th></th>\n",
              "      <th>book_id</th>\n",
              "      <th>user_id</th>\n",
              "      <th>rating</th>\n",
              "    </tr>\n",
              "  </thead>\n",
              "  <tbody>\n",
              "    <tr>\n",
              "      <th>646451</th>\n",
              "      <td>6495</td>\n",
              "      <td>19643</td>\n",
              "      <td>5</td>\n",
              "    </tr>\n",
              "    <tr>\n",
              "      <th>614851</th>\n",
              "      <td>6175</td>\n",
              "      <td>8563</td>\n",
              "      <td>4</td>\n",
              "    </tr>\n",
              "    <tr>\n",
              "      <th>974393</th>\n",
              "      <td>9920</td>\n",
              "      <td>52110</td>\n",
              "      <td>3</td>\n",
              "    </tr>\n",
              "    <tr>\n",
              "      <th>21471</th>\n",
              "      <td>215</td>\n",
              "      <td>33864</td>\n",
              "      <td>5</td>\n",
              "    </tr>\n",
              "    <tr>\n",
              "      <th>272540</th>\n",
              "      <td>2728</td>\n",
              "      <td>16587</td>\n",
              "      <td>3</td>\n",
              "    </tr>\n",
              "  </tbody>\n",
              "</table>\n",
              "</div>"
            ],
            "text/plain": [
              "        book_id  user_id  rating\n",
              "646451     6495    19643       5\n",
              "614851     6175     8563       4\n",
              "974393     9920    52110       3\n",
              "21471       215    33864       5\n",
              "272540     2728    16587       3"
            ]
          },
          "metadata": {
            "tags": []
          },
          "execution_count": 135
        }
      ]
    },
    {
      "cell_type": "code",
      "metadata": {
        "id": "Hz6Q2Aq3_Urg",
        "colab": {
          "base_uri": "https://localhost:8080/"
        },
        "outputId": "fe14aa8d-8636-4e38-d87e-154237930fe5"
      },
      "source": [
        "n_users = len(dataset.user_id.unique())\n",
        "n_users"
      ],
      "execution_count": 136,
      "outputs": [
        {
          "output_type": "execute_result",
          "data": {
            "text/plain": [
              "53424"
            ]
          },
          "metadata": {
            "tags": []
          },
          "execution_count": 136
        }
      ]
    },
    {
      "cell_type": "code",
      "metadata": {
        "id": "N-gaigyN_U0k",
        "colab": {
          "base_uri": "https://localhost:8080/"
        },
        "outputId": "20cea696-baab-467e-cba4-2bb9d65c1b04"
      },
      "source": [
        "n_books = len(dataset.book_id.unique())\n",
        "n_books"
      ],
      "execution_count": 137,
      "outputs": [
        {
          "output_type": "execute_result",
          "data": {
            "text/plain": [
              "10000"
            ]
          },
          "metadata": {
            "tags": []
          },
          "execution_count": 137
        }
      ]
    },
    {
      "cell_type": "code",
      "metadata": {
        "id": "8c_p_ErZ_U2o"
      },
      "source": [
        "# Creating dot product model\n",
        "\n",
        "# creating book embedding path\n",
        "book_input = Input(shape=[1], name=\"Book-Input\")\n",
        "book_embedding = Embedding(n_books+1, 5, name=\"Book-Embedding\")(book_input)\n",
        "book_vec = Flatten(name=\"Flatten-Books\")(book_embedding)\n",
        "\n",
        "# creating user embedding path\n",
        "user_input = Input(shape=[1], name=\"User-Input\")\n",
        "user_embedding = Embedding(n_users+1, 5, name=\"User-Embedding\")(user_input)\n",
        "user_vec = Flatten(name=\"Flatten-Users\")(user_embedding)\n",
        "\n",
        "# performing dot product and creating model\n",
        "prod = Dot(name=\"Dot-Product\", axes=1)([book_vec, user_vec])\n",
        "model = Model([user_input, book_input], prod)\n",
        "model.compile('adam', 'mean_squared_error')"
      ],
      "execution_count": 138,
      "outputs": []
    },
    {
      "cell_type": "code",
      "metadata": {
        "id": "rDrJ96pj_U46",
        "colab": {
          "base_uri": "https://localhost:8080/",
          "height": 447
        },
        "outputId": "d644ff06-1993-4a24-fc5c-2d280106263e"
      },
      "source": [
        "from keras.models import load_model\n",
        "\n",
        "if os.path.exists('regression_model.h5'):\n",
        "    model = load_model('regression_model.h5')\n",
        "else:\n",
        "    history = model.fit([train.user_id, train.book_id], train.rating, epochs=5, verbose=1)\n",
        "    model.save('regression_model.h5')\n",
        "    plt.plot(history.history['loss'])\n",
        "    plt.xlabel(\"Epochs\")\n",
        "    plt.ylabel(\"Training Error\")"
      ],
      "execution_count": 139,
      "outputs": [
        {
          "output_type": "stream",
          "text": [
            "Epoch 1/5\n",
            "24544/24544 [==============================] - 123s 5ms/step - loss: 15.3063\n",
            "Epoch 2/5\n",
            "24544/24544 [==============================] - 120s 5ms/step - loss: 5.9098\n",
            "Epoch 3/5\n",
            "24544/24544 [==============================] - 119s 5ms/step - loss: 1.9985\n",
            "Epoch 4/5\n",
            "24544/24544 [==============================] - 120s 5ms/step - loss: 1.2528\n",
            "Epoch 5/5\n",
            "24544/24544 [==============================] - 121s 5ms/step - loss: 0.9840\n"
          ],
          "name": "stdout"
        },
        {
          "output_type": "display_data",
          "data": {
            "image/png": "[encoded data removed]",
            "text/plain": [
              "<Figure size 432x288 with 1 Axes>"
            ]
          },
          "metadata": {
            "tags": [],
            "needs_background": "light"
          }
        }
      ]
    },
    {
      "cell_type": "code",
      "metadata": {
        "colab": {
          "base_uri": "https://localhost:8080/"
        },
        "id": "wzSjsLxrdtem",
        "outputId": "70d53bef-5309-4222-8ff0-a4d559186535"
      },
      "source": [
        "model.evaluate([test.user_id, test.book_id], test.rating)"
      ],
      "execution_count": 140,
      "outputs": [
        {
          "output_type": "stream",
          "text": [
            "6136/6136 [==============================] - 6s 938us/step - loss: 1.1622\n"
          ],
          "name": "stdout"
        },
        {
          "output_type": "execute_result",
          "data": {
            "text/plain": [
              "1.1622049808502197"
            ]
          },
          "metadata": {
            "tags": []
          },
          "execution_count": 140
        }
      ]
    },
    {
      "cell_type": "code",
      "metadata": {
        "id": "Z01_Z3_y_U7f",
        "colab": {
          "base_uri": "https://localhost:8080/"
        },
        "outputId": "5265396f-d816-47fe-8244-9029c672f246"
      },
      "source": [
        "predictions = model.predict([test.user_id.head(10), test.book_id.head(10)])\n",
        "\n",
        "[print(predictions[i], test.rating.iloc[i]) for i in range(0,10)]"
      ],
      "execution_count": 141,
      "outputs": [
        {
          "output_type": "stream",
          "text": [
            "[4.945952] 5\n",
            "[3.792049] 4\n",
            "[3.6616764] 3\n",
            "[4.144376] 5\n",
            "[3.5160398] 3\n",
            "[3.6209214] 3\n",
            "[3.7427027] 3\n",
            "[5.0017715] 4\n",
            "[4.1022053] 3\n",
            "[4.17718] 5\n"
          ],
          "name": "stdout"
        },
        {
          "output_type": "execute_result",
          "data": {
            "text/plain": [
              "[None, None, None, None, None, None, None, None, None, None]"
            ]
          },
          "metadata": {
            "tags": []
          },
          "execution_count": 141
        }
      ]
    },
    {
      "cell_type": "code",
      "metadata": {
        "id": "ejEQLqpi_U-0"
      },
      "source": [
        "# Creating Neural Network\n",
        "\n",
        "from keras.layers import Concatenate\n",
        "\n",
        "# creating book embedding path\n",
        "book_input = Input(shape=[1], name=\"Book-Input\")\n",
        "book_embedding = Embedding(n_books+1, 5, name=\"Book-Embedding\")(book_input)\n",
        "book_vec = Flatten(name=\"Flatten-Books\")(book_embedding)\n",
        "\n",
        "# creating user embedding path\n",
        "user_input = Input(shape=[1], name=\"User-Input\")\n",
        "user_embedding = Embedding(n_users+1, 5, name=\"User-Embedding\")(user_input)\n",
        "user_vec = Flatten(name=\"Flatten-Users\")(user_embedding)\n",
        "\n",
        "# concatenate features\n",
        "conc = Concatenate()([book_vec, user_vec])\n",
        "\n",
        "# add fully-connected-layers\n",
        "fc1 = Dense(128, activation='relu')(conc)\n",
        "fc2 = Dense(32, activation='relu')(fc1)\n",
        "out = Dense(1)(fc2)\n",
        "\n",
        "# Create model and compile it\n",
        "model2 = Model([user_input, book_input], out)\n",
        "model2.compile('adam', 'mean_squared_error')"
      ],
      "execution_count": 142,
      "outputs": []
    },
    {
      "cell_type": "code",
      "metadata": {
        "id": "41VYK3smN0Js",
        "colab": {
          "base_uri": "https://localhost:8080/",
          "height": 447
        },
        "outputId": "cb333616-a827-43dd-f8c6-1fd1827defbf"
      },
      "source": [
        "from keras.models import load_model\n",
        "\n",
        "if os.path.exists('regression_model2.h5'):\n",
        "    model2 = load_model('regression_model2.h5')\n",
        "else:\n",
        "    history = model2.fit([train.user_id, train.book_id], train.rating, epochs=5, verbose=1)\n",
        "    model2.save('regression_model2.h5')\n",
        "    plt.plot(history.history['loss'])\n",
        "    plt.xlabel(\"Epochs\")\n",
        "    plt.ylabel(\"Training Error\")"
      ],
      "execution_count": 143,
      "outputs": [
        {
          "output_type": "stream",
          "text": [
            "Epoch 1/5\n",
            "24544/24544 [==============================] - 131s 5ms/step - loss: 1.0180\n",
            "Epoch 2/5\n",
            "24544/24544 [==============================] - 132s 5ms/step - loss: 0.6777\n",
            "Epoch 3/5\n",
            "24544/24544 [==============================] - 135s 6ms/step - loss: 0.6503\n",
            "Epoch 4/5\n",
            "24544/24544 [==============================] - 132s 5ms/step - loss: 0.6218\n",
            "Epoch 5/5\n",
            "24544/24544 [==============================] - 130s 5ms/step - loss: 0.5988\n"
          ],
          "name": "stdout"
        },
        {
          "output_type": "display_data",
          "data": {
            "image/png": "[encoded data removed]",
            "text/plain": [
              "<Figure size 432x288 with 1 Axes>"
            ]
          },
          "metadata": {
            "tags": [],
            "needs_background": "light"
          }
        }
      ]
    },
    {
      "cell_type": "code",
      "metadata": {
        "id": "Rn3z6MAHN0U6",
        "colab": {
          "base_uri": "https://localhost:8080/"
        },
        "outputId": "6cd26cb9-3f89-45e1-9b78-220e70aedaf0"
      },
      "source": [
        "model2.evaluate([test.user_id, test.book_id], test.rating)"
      ],
      "execution_count": 144,
      "outputs": [
        {
          "output_type": "stream",
          "text": [
            "6136/6136 [==============================] - 7s 1ms/step - loss: 0.7096\n"
          ],
          "name": "stdout"
        },
        {
          "output_type": "execute_result",
          "data": {
            "text/plain": [
              "0.7096060514450073"
            ]
          },
          "metadata": {
            "tags": []
          },
          "execution_count": 144
        }
      ]
    },
    {
      "cell_type": "code",
      "metadata": {
        "id": "-989NYY3N0Yk",
        "colab": {
          "base_uri": "https://localhost:8080/"
        },
        "outputId": "92551fef-6de9-40c1-ad83-a4cd626982b1"
      },
      "source": [
        "predictions = model2.predict([test.user_id.head(10), test.book_id.head(10)])\n",
        "\n",
        "[print(predictions[i], test.rating.iloc[i]) for i in range(0,10)]"
      ],
      "execution_count": 145,
      "outputs": [
        {
          "output_type": "stream",
          "text": [
            "[5.149287] 5\n",
            "[3.8702333] 4\n",
            "[3.4412057] 3\n",
            "[4.2800913] 5\n",
            "[3.452126] 3\n",
            "[3.6691349] 3\n",
            "[3.3972843] 3\n",
            "[4.880801] 4\n",
            "[4.200246] 3\n",
            "[4.2680254] 5\n"
          ],
          "name": "stdout"
        },
        {
          "output_type": "execute_result",
          "data": {
            "text/plain": [
              "[None, None, None, None, None, None, None, None, None, None]"
            ]
          },
          "metadata": {
            "tags": []
          },
          "execution_count": 145
        }
      ]
    },
    {
      "cell_type": "code",
      "metadata": {
        "id": "wa0vc6pFSNA3"
      },
      "source": [
        "# Visualizing Embeddings\n",
        "\n",
        "book_em = model.get_layer('Book-Embedding')\n",
        "book_em_weights = book_em.get_weights()[0]"
      ],
      "execution_count": 146,
      "outputs": []
    },
    {
      "cell_type": "code",
      "metadata": {
        "id": "bBQ4FfxJSNDi",
        "colab": {
          "base_uri": "https://localhost:8080/"
        },
        "outputId": "dfc96735-6c58-4ea7-e23f-f2091326e4a2"
      },
      "source": [
        "book_em_weights[:5]"
      ],
      "execution_count": 147,
      "outputs": [
        {
          "output_type": "execute_result",
          "data": {
            "text/plain": [
              "array([[ 0.04412096, -0.00180306, -0.01237631, -0.00978597, -0.01213548],\n",
              "       [-1.50906   , -1.4565517 ,  1.4115441 ,  1.3729019 ,  1.2893904 ],\n",
              "       [-1.4399234 , -1.3545539 ,  1.406582  ,  1.4474936 ,  1.1217843 ],\n",
              "       [-1.0631886 , -0.983681  ,  0.93639284,  1.1830785 ,  1.1582212 ],\n",
              "       [-1.489112  , -1.3871228 ,  1.4081169 ,  1.5337149 ,  1.2308091 ]],\n",
              "      dtype=float32)"
            ]
          },
          "metadata": {
            "tags": []
          },
          "execution_count": 147
        }
      ]
    },
    {
      "cell_type": "code",
      "metadata": {
        "id": "W7frGR5USNF0",
        "colab": {
          "base_uri": "https://localhost:8080/",
          "height": 282
        },
        "outputId": "197c4f7c-9e74-489e-fb1a-417b1c65225e"
      },
      "source": [
        "from sklearn.decomposition import PCA\n",
        "import seaborn as sns\n",
        "\n",
        "pca = PCA(n_components=2)\n",
        "pca_result = pca.fit_transform(book_em_weights)\n",
        "sns.scatterplot(x=pca_result[:,0], y=pca_result[:,1])\n"
      ],
      "execution_count": 148,
      "outputs": [
        {
          "output_type": "execute_result",
          "data": {
            "text/plain": [
              "<matplotlib.axes._subplots.AxesSubplot at 0x7fbefd4ceb50>"
            ]
          },
          "metadata": {
            "tags": []
          },
          "execution_count": 148
        },
        {
          "output_type": "display_data",
          "data": {
            "image/png": "[encoded data removed]",
            "text/plain": [
              "<Figure size 432x288 with 1 Axes>"
            ]
          },
          "metadata": {
            "tags": [],
            "needs_background": "light"
          }
        }
      ]
    },
    {
      "cell_type": "code",
      "metadata": {
        "id": "gTgkxFphSk3Z",
        "colab": {
          "base_uri": "https://localhost:8080/"
        },
        "outputId": "06a1d887-d007-42d7-efab-21f91976c57c"
      },
      "source": [
        "book_em_weights = book_em_weights / np.linalg.norm(book_em_weights, axis = 1).reshape((-1, 1))\n",
        "book_em_weights[0][:10]\n",
        "np.sum(np.square(book_em_weights[0]))"
      ],
      "execution_count": 149,
      "outputs": [
        {
          "output_type": "execute_result",
          "data": {
            "text/plain": [
              "0.9999998"
            ]
          },
          "metadata": {
            "tags": []
          },
          "execution_count": 149
        }
      ]
    },
    {
      "cell_type": "code",
      "metadata": {
        "id": "PS8Qx4SUSk6r",
        "colab": {
          "base_uri": "https://localhost:8080/",
          "height": 282
        },
        "outputId": "c77a490b-edc6-4bd6-e45a-a6abe7e3380c"
      },
      "source": [
        "pca = PCA(n_components=2)\n",
        "pca_result = pca.fit_transform(book_em_weights)\n",
        "sns.scatterplot(x=pca_result[:,0], y=pca_result[:,1])"
      ],
      "execution_count": 150,
      "outputs": [
        {
          "output_type": "execute_result",
          "data": {
            "text/plain": [
              "<matplotlib.axes._subplots.AxesSubplot at 0x7fbefd4459d0>"
            ]
          },
          "metadata": {
            "tags": []
          },
          "execution_count": 150
        },
        {
          "output_type": "display_data",
          "data": {
            "image/png": "[encoded data removed]",
            "text/plain": [
              "<Figure size 432x288 with 1 Axes>"
            ]
          },
          "metadata": {
            "tags": [],
            "needs_background": "light"
          }
        }
      ]
    },
    {
      "cell_type": "code",
      "metadata": {
        "id": "car5UTSXSk8j",
        "colab": {
          "base_uri": "https://localhost:8080/"
        },
        "outputId": "81e89b10-7351-43e0-c6d0-49514c404274"
      },
      "source": [
        "from sklearn.manifold import TSNE\n",
        "\n",
        "tsne = TSNE(n_components=2, verbose=1, perplexity=40, n_iter=300)\n",
        "tnse_results = tsne.fit_transform(book_em_weights)"
      ],
      "execution_count": 151,
      "outputs": [
        {
          "output_type": "stream",
          "text": [
            "[t-SNE] Computing 121 nearest neighbors...\n",
            "[t-SNE] Indexed 10001 samples in 0.011s...\n",
            "[t-SNE] Computed neighbors for 10001 samples in 0.627s...\n",
            "[t-SNE] Computed conditional probabilities for sample 1000 / 10001\n",
            "[t-SNE] Computed conditional probabilities for sample 2000 / 10001\n",
            "[t-SNE] Computed conditional probabilities for sample 3000 / 10001\n",
            "[t-SNE] Computed conditional probabilities for sample 4000 / 10001\n",
            "[t-SNE] Computed conditional probabilities for sample 5000 / 10001\n",
            "[t-SNE] Computed conditional probabilities for sample 6000 / 10001\n",
            "[t-SNE] Computed conditional probabilities for sample 7000 / 10001\n",
            "[t-SNE] Computed conditional probabilities for sample 8000 / 10001\n",
            "[t-SNE] Computed conditional probabilities for sample 9000 / 10001\n",
            "[t-SNE] Computed conditional probabilities for sample 10000 / 10001\n",
            "[t-SNE] Computed conditional probabilities for sample 10001 / 10001\n",
            "[t-SNE] Mean sigma: 0.023885\n",
            "[t-SNE] KL divergence after 250 iterations with early exaggeration: 82.948196\n",
            "[t-SNE] KL divergence after 300 iterations: 2.801090\n"
          ],
          "name": "stdout"
        }
      ]
    },
    {
      "cell_type": "code",
      "metadata": {
        "id": "FECph_cGSlAE",
        "colab": {
          "base_uri": "https://localhost:8080/",
          "height": 282
        },
        "outputId": "91059074-ba3b-4449-87e1-1af505942876"
      },
      "source": [
        "sns.scatterplot(x=tnse_results[:,0], y=tnse_results[:,1])"
      ],
      "execution_count": 152,
      "outputs": [
        {
          "output_type": "execute_result",
          "data": {
            "text/plain": [
              "<matplotlib.axes._subplots.AxesSubplot at 0x7fbefd3ff350>"
            ]
          },
          "metadata": {
            "tags": []
          },
          "execution_count": 152
        },
        {
          "output_type": "display_data",
          "data": {
            "image/png": "[encoded data removed]",
            "text/plain": [
              "<Figure size 432x288 with 1 Axes>"
            ]
          },
          "metadata": {
            "tags": [],
            "needs_background": "light"
          }
        }
      ]
    },
    {
      "cell_type": "markdown",
      "metadata": {
        "id": "HapVaSGzWCJ0"
      },
      "source": [
        "***Making Recommendations***"
      ]
    },
    {
      "cell_type": "code",
      "metadata": {
        "id": "7Ck96ypVUQ92",
        "colab": {
          "base_uri": "https://localhost:8080/"
        },
        "outputId": "8778a539-fb48-48d4-fa25-4c7e0b13fc43"
      },
      "source": [
        "# Creating dataset for making recommendations for the first user\n",
        "book_data = np.array(list(set(dataset.book_id)))\n",
        "book_data[:5]"
      ],
      "execution_count": 153,
      "outputs": [
        {
          "output_type": "execute_result",
          "data": {
            "text/plain": [
              "array([1, 2, 3, 4, 5])"
            ]
          },
          "metadata": {
            "tags": []
          },
          "execution_count": 153
        }
      ]
    },
    {
      "cell_type": "code",
      "metadata": {
        "id": "HlR7LZdYURAC",
        "colab": {
          "base_uri": "https://localhost:8080/"
        },
        "outputId": "ecd07493-62f2-45e7-e565-31ecd905619e"
      },
      "source": [
        "user = np.array([1 for i in range(len(book_data))])\n",
        "user[:5]"
      ],
      "execution_count": 154,
      "outputs": [
        {
          "output_type": "execute_result",
          "data": {
            "text/plain": [
              "array([1, 1, 1, 1, 1])"
            ]
          },
          "metadata": {
            "tags": []
          },
          "execution_count": 154
        }
      ]
    },
    {
      "cell_type": "code",
      "metadata": {
        "id": "-LksvYsbURCz",
        "colab": {
          "base_uri": "https://localhost:8080/"
        },
        "outputId": "9e25a62f-fe46-4f1f-f83e-3fa551ce7dd3"
      },
      "source": [
        "predictions = model.predict([user, book_data])\n",
        "\n",
        "predictions = np.array([a[0] for a in predictions])\n",
        "\n",
        "recommended_book_ids = (-predictions).argsort()[:5]\n",
        "\n",
        "recommended_book_ids"
      ],
      "execution_count": 155,
      "outputs": [
        {
          "output_type": "execute_result",
          "data": {
            "text/plain": [
              "array([8258, 7638, 9872, 9805, 9982])"
            ]
          },
          "metadata": {
            "tags": []
          },
          "execution_count": 155
        }
      ]
    },
    {
      "cell_type": "code",
      "metadata": {
        "id": "5HdRwvUzURYK",
        "colab": {
          "base_uri": "https://localhost:8080/"
        },
        "outputId": "47282271-afcf-451e-dbcf-9a79a40333ae"
      },
      "source": [
        "# print predicted scores\n",
        "predictions[recommended_book_ids]"
      ],
      "execution_count": 156,
      "outputs": [
        {
          "output_type": "execute_result",
          "data": {
            "text/plain": [
              "array([4.317466 , 4.298209 , 4.1667075, 4.161868 , 4.1334333],\n",
              "      dtype=float32)"
            ]
          },
          "metadata": {
            "tags": []
          },
          "execution_count": 156
        }
      ]
    },
    {
      "cell_type": "code",
      "metadata": {
        "id": "AvfAhsv2WZZO",
        "colab": {
          "base_uri": "https://localhost:8080/",
          "height": 425
        },
        "outputId": "2d4d67ac-d9f8-4c31-a001-623df0c6b2e3"
      },
      "source": [
        "books = pd.read_csv('inputs/books.csv')\n",
        "books.head()"
      ],
      "execution_count": 157,
      "outputs": [
        {
          "output_type": "execute_result",
          "data": {
            "text/html": [
              "<div>\n",
              "<style scoped>\n",
              "    .dataframe tbody tr th:only-of-type {\n",
              "        vertical-align: middle;\n",
              "    }\n",
              "\n",
              "    .dataframe tbody tr th {\n",
              "        vertical-align: top;\n",
              "    }\n",
              "\n",
              "    .dataframe thead th {\n",
              "        text-align: right;\n",
              "    }\n",
              "</style>\n",
              "<table border=\"1\" class=\"dataframe\">\n",
              "  <thead>\n",
              "    <tr style=\"text-align: right;\">\n",
              "      <th></th>\n",
              "      <th>id</th>\n",
              "      <th>book_id</th>\n",
              "      <th>best_book_id</th>\n",
              "      <th>work_id</th>\n",
              "      <th>books_count</th>\n",
              "      <th>isbn</th>\n",
              "      <th>isbn13</th>\n",
              "      <th>authors</th>\n",
              "      <th>original_publication_year</th>\n",
              "      <th>original_title</th>\n",
              "      <th>title</th>\n",
              "      <th>language_code</th>\n",
              "      <th>average_rating</th>\n",
              "      <th>ratings_count</th>\n",
              "      <th>work_ratings_count</th>\n",
              "      <th>work_text_reviews_count</th>\n",
              "      <th>ratings_1</th>\n",
              "      <th>ratings_2</th>\n",
              "      <th>ratings_3</th>\n",
              "      <th>ratings_4</th>\n",
              "      <th>ratings_5</th>\n",
              "      <th>image_url</th>\n",
              "      <th>small_image_url</th>\n",
              "    </tr>\n",
              "  </thead>\n",
              "  <tbody>\n",
              "    <tr>\n",
              "      <th>0</th>\n",
              "      <td>1</td>\n",
              "      <td>2767052</td>\n",
              "      <td>2767052</td>\n",
              "      <td>2792775</td>\n",
              "      <td>272</td>\n",
              "      <td>439023483</td>\n",
              "      <td>9.780439e+12</td>\n",
              "      <td>Suzanne Collins</td>\n",
              "      <td>2008.0</td>\n",
              "      <td>The Hunger Games</td>\n",
              "      <td>The Hunger Games (The Hunger Games, #1)</td>\n",
              "      <td>eng</td>\n",
              "      <td>4.34</td>\n",
              "      <td>4780653</td>\n",
              "      <td>4942365</td>\n",
              "      <td>155254</td>\n",
              "      <td>66715</td>\n",
              "      <td>127936</td>\n",
              "      <td>560092</td>\n",
              "      <td>1481305</td>\n",
              "      <td>2706317</td>\n",
              "      <td>https://images.gr-assets.com/books/1447303603m...</td>\n",
              "      <td>https://images.gr-assets.com/books/1447303603s...</td>\n",
              "    </tr>\n",
              "    <tr>\n",
              "      <th>1</th>\n",
              "      <td>2</td>\n",
              "      <td>3</td>\n",
              "      <td>3</td>\n",
              "      <td>4640799</td>\n",
              "      <td>491</td>\n",
              "      <td>439554934</td>\n",
              "      <td>9.780440e+12</td>\n",
              "      <td>J.K. Rowling, Mary GrandPré</td>\n",
              "      <td>1997.0</td>\n",
              "      <td>Harry Potter and the Philosopher's Stone</td>\n",
              "      <td>Harry Potter and the Sorcerer's Stone (Harry P...</td>\n",
              "      <td>eng</td>\n",
              "      <td>4.44</td>\n",
              "      <td>4602479</td>\n",
              "      <td>4800065</td>\n",
              "      <td>75867</td>\n",
              "      <td>75504</td>\n",
              "      <td>101676</td>\n",
              "      <td>455024</td>\n",
              "      <td>1156318</td>\n",
              "      <td>3011543</td>\n",
              "      <td>https://images.gr-assets.com/books/1474154022m...</td>\n",
              "      <td>https://images.gr-assets.com/books/1474154022s...</td>\n",
              "    </tr>\n",
              "    <tr>\n",
              "      <th>2</th>\n",
              "      <td>3</td>\n",
              "      <td>41865</td>\n",
              "      <td>41865</td>\n",
              "      <td>3212258</td>\n",
              "      <td>226</td>\n",
              "      <td>316015849</td>\n",
              "      <td>9.780316e+12</td>\n",
              "      <td>Stephenie Meyer</td>\n",
              "      <td>2005.0</td>\n",
              "      <td>Twilight</td>\n",
              "      <td>Twilight (Twilight, #1)</td>\n",
              "      <td>en-US</td>\n",
              "      <td>3.57</td>\n",
              "      <td>3866839</td>\n",
              "      <td>3916824</td>\n",
              "      <td>95009</td>\n",
              "      <td>456191</td>\n",
              "      <td>436802</td>\n",
              "      <td>793319</td>\n",
              "      <td>875073</td>\n",
              "      <td>1355439</td>\n",
              "      <td>https://images.gr-assets.com/books/1361039443m...</td>\n",
              "      <td>https://images.gr-assets.com/books/1361039443s...</td>\n",
              "    </tr>\n",
              "    <tr>\n",
              "      <th>3</th>\n",
              "      <td>4</td>\n",
              "      <td>2657</td>\n",
              "      <td>2657</td>\n",
              "      <td>3275794</td>\n",
              "      <td>487</td>\n",
              "      <td>61120081</td>\n",
              "      <td>9.780061e+12</td>\n",
              "      <td>Harper Lee</td>\n",
              "      <td>1960.0</td>\n",
              "      <td>To Kill a Mockingbird</td>\n",
              "      <td>To Kill a Mockingbird</td>\n",
              "      <td>eng</td>\n",
              "      <td>4.25</td>\n",
              "      <td>3198671</td>\n",
              "      <td>3340896</td>\n",
              "      <td>72586</td>\n",
              "      <td>60427</td>\n",
              "      <td>117415</td>\n",
              "      <td>446835</td>\n",
              "      <td>1001952</td>\n",
              "      <td>1714267</td>\n",
              "      <td>https://images.gr-assets.com/books/1361975680m...</td>\n",
              "      <td>https://images.gr-assets.com/books/1361975680s...</td>\n",
              "    </tr>\n",
              "    <tr>\n",
              "      <th>4</th>\n",
              "      <td>5</td>\n",
              "      <td>4671</td>\n",
              "      <td>4671</td>\n",
              "      <td>245494</td>\n",
              "      <td>1356</td>\n",
              "      <td>743273567</td>\n",
              "      <td>9.780743e+12</td>\n",
              "      <td>F. Scott Fitzgerald</td>\n",
              "      <td>1925.0</td>\n",
              "      <td>The Great Gatsby</td>\n",
              "      <td>The Great Gatsby</td>\n",
              "      <td>eng</td>\n",
              "      <td>3.89</td>\n",
              "      <td>2683664</td>\n",
              "      <td>2773745</td>\n",
              "      <td>51992</td>\n",
              "      <td>86236</td>\n",
              "      <td>197621</td>\n",
              "      <td>606158</td>\n",
              "      <td>936012</td>\n",
              "      <td>947718</td>\n",
              "      <td>https://images.gr-assets.com/books/1490528560m...</td>\n",
              "      <td>https://images.gr-assets.com/books/1490528560s...</td>\n",
              "    </tr>\n",
              "  </tbody>\n",
              "</table>\n",
              "</div>"
            ],
            "text/plain": [
              "   id  ...                                    small_image_url\n",
              "0   1  ...  https://images.gr-assets.com/books/1447303603s...\n",
              "1   2  ...  https://images.gr-assets.com/books/1474154022s...\n",
              "2   3  ...  https://images.gr-assets.com/books/1361039443s...\n",
              "3   4  ...  https://images.gr-assets.com/books/1361975680s...\n",
              "4   5  ...  https://images.gr-assets.com/books/1490528560s...\n",
              "\n",
              "[5 rows x 23 columns]"
            ]
          },
          "metadata": {
            "tags": []
          },
          "execution_count": 157
        }
      ]
    },
    {
      "cell_type": "code",
      "metadata": {
        "id": "hYRYYM5uWZck",
        "colab": {
          "base_uri": "https://localhost:8080/",
          "height": 341
        },
        "outputId": "2df6e2c9-be5f-48ad-aa9d-5b3f3cd7a47e"
      },
      "source": [
        "books[books['id'].isin(recommended_book_ids)]"
      ],
      "execution_count": 158,
      "outputs": [
        {
          "output_type": "execute_result",
          "data": {
            "text/html": [
              "<div>\n",
              "<style scoped>\n",
              "    .dataframe tbody tr th:only-of-type {\n",
              "        vertical-align: middle;\n",
              "    }\n",
              "\n",
              "    .dataframe tbody tr th {\n",
              "        vertical-align: top;\n",
              "    }\n",
              "\n",
              "    .dataframe thead th {\n",
              "        text-align: right;\n",
              "    }\n",
              "</style>\n",
              "<table border=\"1\" class=\"dataframe\">\n",
              "  <thead>\n",
              "    <tr style=\"text-align: right;\">\n",
              "      <th></th>\n",
              "      <th>id</th>\n",
              "      <th>book_id</th>\n",
              "      <th>best_book_id</th>\n",
              "      <th>work_id</th>\n",
              "      <th>books_count</th>\n",
              "      <th>isbn</th>\n",
              "      <th>isbn13</th>\n",
              "      <th>authors</th>\n",
              "      <th>original_publication_year</th>\n",
              "      <th>original_title</th>\n",
              "      <th>title</th>\n",
              "      <th>language_code</th>\n",
              "      <th>average_rating</th>\n",
              "      <th>ratings_count</th>\n",
              "      <th>work_ratings_count</th>\n",
              "      <th>work_text_reviews_count</th>\n",
              "      <th>ratings_1</th>\n",
              "      <th>ratings_2</th>\n",
              "      <th>ratings_3</th>\n",
              "      <th>ratings_4</th>\n",
              "      <th>ratings_5</th>\n",
              "      <th>image_url</th>\n",
              "      <th>small_image_url</th>\n",
              "    </tr>\n",
              "  </thead>\n",
              "  <tbody>\n",
              "    <tr>\n",
              "      <th>7637</th>\n",
              "      <td>7638</td>\n",
              "      <td>12009</td>\n",
              "      <td>12009</td>\n",
              "      <td>2465248</td>\n",
              "      <td>28</td>\n",
              "      <td>1597800449</td>\n",
              "      <td>9.781598e+12</td>\n",
              "      <td>Iain M. Banks</td>\n",
              "      <td>2004.0</td>\n",
              "      <td>The Algebraist</td>\n",
              "      <td>The Algebraist</td>\n",
              "      <td>eng</td>\n",
              "      <td>3.99</td>\n",
              "      <td>13210</td>\n",
              "      <td>14793</td>\n",
              "      <td>606</td>\n",
              "      <td>185</td>\n",
              "      <td>684</td>\n",
              "      <td>3067</td>\n",
              "      <td>5984</td>\n",
              "      <td>4873</td>\n",
              "      <td>https://s.gr-assets.com/assets/nophoto/book/11...</td>\n",
              "      <td>https://s.gr-assets.com/assets/nophoto/book/50...</td>\n",
              "    </tr>\n",
              "    <tr>\n",
              "      <th>8257</th>\n",
              "      <td>8258</td>\n",
              "      <td>18594594</td>\n",
              "      <td>18594594</td>\n",
              "      <td>26341000</td>\n",
              "      <td>41</td>\n",
              "      <td>345547497</td>\n",
              "      <td>9.780346e+12</td>\n",
              "      <td>Karin Slaughter</td>\n",
              "      <td>2014.0</td>\n",
              "      <td>Cop Town</td>\n",
              "      <td>Cop Town</td>\n",
              "      <td>eng</td>\n",
              "      <td>3.88</td>\n",
              "      <td>10660</td>\n",
              "      <td>13997</td>\n",
              "      <td>1704</td>\n",
              "      <td>274</td>\n",
              "      <td>780</td>\n",
              "      <td>3299</td>\n",
              "      <td>5612</td>\n",
              "      <td>4032</td>\n",
              "      <td>https://images.gr-assets.com/books/1384822680m...</td>\n",
              "      <td>https://images.gr-assets.com/books/1384822680s...</td>\n",
              "    </tr>\n",
              "    <tr>\n",
              "      <th>9804</th>\n",
              "      <td>9805</td>\n",
              "      <td>420734</td>\n",
              "      <td>420734</td>\n",
              "      <td>1784677</td>\n",
              "      <td>38</td>\n",
              "      <td>671027581</td>\n",
              "      <td>9.780671e+12</td>\n",
              "      <td>Linda Howard</td>\n",
              "      <td>2001.0</td>\n",
              "      <td>Open Season</td>\n",
              "      <td>Open Season</td>\n",
              "      <td>eng</td>\n",
              "      <td>4.01</td>\n",
              "      <td>14653</td>\n",
              "      <td>15580</td>\n",
              "      <td>705</td>\n",
              "      <td>156</td>\n",
              "      <td>588</td>\n",
              "      <td>3505</td>\n",
              "      <td>6043</td>\n",
              "      <td>5288</td>\n",
              "      <td>https://images.gr-assets.com/books/1324869940m...</td>\n",
              "      <td>https://images.gr-assets.com/books/1324869940s...</td>\n",
              "    </tr>\n",
              "    <tr>\n",
              "      <th>9871</th>\n",
              "      <td>9872</td>\n",
              "      <td>24480276</td>\n",
              "      <td>24480276</td>\n",
              "      <td>44074400</td>\n",
              "      <td>45</td>\n",
              "      <td>NaN</td>\n",
              "      <td>9.781475e+12</td>\n",
              "      <td>Laura  Barnett</td>\n",
              "      <td>2015.0</td>\n",
              "      <td>The Versions of Us</td>\n",
              "      <td>The Versions of Us</td>\n",
              "      <td>eng</td>\n",
              "      <td>3.57</td>\n",
              "      <td>8477</td>\n",
              "      <td>11346</td>\n",
              "      <td>1685</td>\n",
              "      <td>382</td>\n",
              "      <td>1170</td>\n",
              "      <td>3457</td>\n",
              "      <td>4250</td>\n",
              "      <td>2087</td>\n",
              "      <td>https://images.gr-assets.com/books/1423155390m...</td>\n",
              "      <td>https://images.gr-assets.com/books/1423155390s...</td>\n",
              "    </tr>\n",
              "    <tr>\n",
              "      <th>9981</th>\n",
              "      <td>9982</td>\n",
              "      <td>12444298</td>\n",
              "      <td>12444298</td>\n",
              "      <td>21900571</td>\n",
              "      <td>1</td>\n",
              "      <td>385344422</td>\n",
              "      <td>9.780385e+12</td>\n",
              "      <td>Karen Marie Moning</td>\n",
              "      <td>2016.0</td>\n",
              "      <td>Feverborn</td>\n",
              "      <td>Feverborn (Fever, #8)</td>\n",
              "      <td>eng</td>\n",
              "      <td>4.18</td>\n",
              "      <td>11570</td>\n",
              "      <td>14194</td>\n",
              "      <td>1891</td>\n",
              "      <td>179</td>\n",
              "      <td>521</td>\n",
              "      <td>2308</td>\n",
              "      <td>4779</td>\n",
              "      <td>6407</td>\n",
              "      <td>https://images.gr-assets.com/books/1435195536m...</td>\n",
              "      <td>https://images.gr-assets.com/books/1435195536s...</td>\n",
              "    </tr>\n",
              "  </tbody>\n",
              "</table>\n",
              "</div>"
            ],
            "text/plain": [
              "        id  ...                                    small_image_url\n",
              "7637  7638  ...  https://s.gr-assets.com/assets/nophoto/book/50...\n",
              "8257  8258  ...  https://images.gr-assets.com/books/1384822680s...\n",
              "9804  9805  ...  https://images.gr-assets.com/books/1324869940s...\n",
              "9871  9872  ...  https://images.gr-assets.com/books/1423155390s...\n",
              "9981  9982  ...  https://images.gr-assets.com/books/1435195536s...\n",
              "\n",
              "[5 rows x 23 columns]"
            ]
          },
          "metadata": {
            "tags": []
          },
          "execution_count": 158
        }
      ]
    },
    {
      "cell_type": "code",
      "metadata": {
        "id": "miEldyWaWZf4",
        "colab": {
          "base_uri": "https://localhost:8080/"
        },
        "outputId": "e90c2431-5340-495c-d97f-008d8f7f9077"
      },
      "source": [
        "rec_books = books[books['id'].isin(recommended_book_ids)]\n",
        "print(rec_books['title'])"
      ],
      "execution_count": 165,
      "outputs": [
        {
          "output_type": "stream",
          "text": [
            "7637           The Algebraist\n",
            "8257                 Cop Town\n",
            "9804              Open Season\n",
            "9871       The Versions of Us\n",
            "9981    Feverborn (Fever, #8)\n",
            "Name: title, dtype: object\n"
          ],
          "name": "stdout"
        }
      ]
    },
    {
      "cell_type": "code",
      "metadata": {
        "id": "CZi6Yb7TWZid"
      },
      "source": [
        ""
      ],
      "execution_count": 158,
      "outputs": []
    }
  ]
}